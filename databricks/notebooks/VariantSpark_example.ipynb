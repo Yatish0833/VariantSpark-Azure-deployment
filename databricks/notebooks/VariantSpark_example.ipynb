{
 "cells": [
  {
   "cell_type": "markdown",
   "metadata": {
    "application/vnd.databricks.v1+cell": {
     "inputWidgets": {},
     "nuid": "92bfdd59-2398-47bf-9d1e-d498bad309cc",
     "showTitle": false,
     "title": ""
    }
   },
   "source": [
    "# Example Notebook\n",
    "### This notebook is an example that shows how to use [VariantSpark](https://github.com/aehrc/VariantSpark) with the [Hail v0.2 library](https://hail.is/) and compares the results with PCA and logistic regression.\n",
    "### For demonstration purposes this notebook uses the sample dataset available in [ViGWAS](https://github.com/aehrc/VIGWAS).\n",
    "\n",
    "## [We're always looking for suggestions and feedback. Please click here for a 1 minute survey](https://docs.google.com/forms/d/e/1FAIpQLScWoazw3-rgNFrZ5vcHL9JUmO0AX6Ji2P54Z2jNJZ-RAObuPg/viewform?usp=sf_link)"
   ]
  },
  {
   "cell_type": "markdown",
   "metadata": {
    "application/vnd.databricks.v1+cell": {
     "inputWidgets": {},
     "nuid": "275e5b70-9dac-46fc-bb6f-d5505e039ff1",
     "showTitle": false,
     "title": ""
    }
   },
   "source": [
    "# User Block"
   ]
  },
  {
   "cell_type": "code",
   "execution_count": 0,
   "metadata": {
    "application/vnd.databricks.v1+cell": {
     "inputWidgets": {},
     "nuid": "3292dba9-c234-484a-8bdd-cc14bd896946",
     "showTitle": false,
     "title": ""
    },
    "scrolled": true
   },
   "outputs": [],
   "source": [
    "val containerName = \"<Container Name>\"\n",
    "val storageAccountName = \"<StorageAccount Nmae>\"\n",
    "val sas = \"<Generated SAS Key>\"\n",
    "val config = \"fs.azure.sas.\" + containerName+ \".\" + storageAccountName + \".blob.core.windows.net\"\n",
    " \n",
    "dbutils.fs.mount(\n",
    "  source = \"wasbs://\"+containerName+\"@\"+storageAccountName+\".blob.core.windows.net/sample_input\", \n",
    "  extraConfigs = Map(config -> sas)) #replace sample_input with your input folder.\n",
    "\n",
    "## Some configs\n",
    "numCPU = 32\n",
    "memory = '60G'\n",
    "numPartitions = numCPU*4"
   ]
  },
  {
   "cell_type": "markdown",
   "metadata": {
    "application/vnd.databricks.v1+cell": {
     "inputWidgets": {},
     "nuid": "20e7bdfd-bfb9-4744-b231-2ab8fe81624b",
     "showTitle": false,
     "title": ""
    }
   },
   "source": [
    "# Environment initialization"
   ]
  },
  {
   "cell_type": "code",
   "execution_count": 0,
   "metadata": {
    "application/vnd.databricks.v1+cell": {
     "inputWidgets": {},
     "nuid": "1adde10b-2098-4f1d-aa2d-3df5ad5f433e",
     "showTitle": false,
     "title": ""
    }
   },
   "outputs": [],
   "source": [
    "## Environment init\n",
    "\n",
    "import os\n",
    "from pyspark import SparkContext\n",
    "sc = SparkContext.getOrCreate()\n",
    "\n",
    "import hail as hl\n",
    "import varspark.hail as vshl\n",
    "vshl.init(sc=sc)"
   ]
  },
  {
   "cell_type": "code",
   "execution_count": 0,
   "metadata": {
    "application/vnd.databricks.v1+cell": {
     "inputWidgets": {},
     "nuid": "3128a391-ea15-4ece-a088-a8c19a619706",
     "showTitle": false,
     "title": ""
    }
   },
   "outputs": [],
   "source": [
    "from bokeh.io import show, output_notebook\n",
    "from bokeh.plotting import figure\n",
    "from bokeh.models import ColumnDataSource, FactorRange, LabelSet, Label\n",
    "from bokeh.transform import factor_cmap\n",
    "from bokeh.palettes import d3\n",
    "from bokeh.core.properties import value\n",
    "from bokeh.embed import file_html\n",
    "from bokeh.resources import CDN\n",
    "from bokeh.layouts import gridplot\n",
    "from bokeh.models.mappers import CategoricalColorMapper\n",
    "\n",
    "from pprint import pprint\n",
    "output_notebook()\n",
    "\n",
    "import re\n",
    "import numpy as np\n",
    "import math as math\n",
    "import sys\n",
    "import operator\n",
    "from collections import OrderedDict\n",
    "import subprocess\n",
    "from itertools import cycle\n",
    "import shutil"
   ]
  },
  {
   "cell_type": "markdown",
   "metadata": {
    "application/vnd.databricks.v1+cell": {
     "inputWidgets": {},
     "nuid": "25166ae2-c24d-43a0-8b2c-49cb8b060ca1",
     "showTitle": false,
     "title": ""
    }
   },
   "source": [
    "# Load VCF files"
   ]
  },
  {
   "cell_type": "code",
   "execution_count": 0,
   "metadata": {
    "application/vnd.databricks.v1+cell": {
     "inputWidgets": {},
     "nuid": "c2b2143e-2bc5-4fcb-9ba0-a063ae6d8b3f",
     "showTitle": false,
     "title": ""
    }
   },
   "outputs": [],
   "source": [
    "mt = hl.import_vcf(path='/mnt/V1.vcf.bgz',\n",
    "                   skip_invalid_loci=True,\n",
    "                   min_partitions=int(numPartitions))"
   ]
  },
  {
   "cell_type": "markdown",
   "metadata": {
    "application/vnd.databricks.v1+cell": {
     "inputWidgets": {},
     "nuid": "e6420190-96b9-460e-8d51-14d214053839",
     "showTitle": false,
     "title": ""
    }
   },
   "source": [
    "# Sample Annotation Data Analysis"
   ]
  },
  {
   "cell_type": "code",
   "execution_count": 0,
   "metadata": {
    "application/vnd.databricks.v1+cell": {
     "inputWidgets": {},
     "nuid": "e89a51a3-5e0e-4255-8114-8749472ababb",
     "showTitle": false,
     "title": ""
    }
   },
   "outputs": [],
   "source": [
    "Annot = hl.import_table('/mnt/hipster.csv',\n",
    "                        impute=True, delimiter=',').key_by('Sample')"
   ]
  },
  {
   "cell_type": "markdown",
   "metadata": {
    "application/vnd.databricks.v1+cell": {
     "inputWidgets": {},
     "nuid": "437e2217-a8c4-4e2b-b1b1-0b71713a2716",
     "showTitle": false,
     "title": ""
    }
   },
   "source": [
    "# Annotate dataset with sample annotation"
   ]
  },
  {
   "cell_type": "code",
   "execution_count": 0,
   "metadata": {
    "application/vnd.databricks.v1+cell": {
     "inputWidgets": {},
     "nuid": "b6d665fe-57f9-4203-b40b-238ef3d2773c",
     "showTitle": false,
     "title": ""
    }
   },
   "outputs": [],
   "source": [
    "mt = mt.annotate_cols(pheno = Annot[mt.s])"
   ]
  },
  {
   "cell_type": "markdown",
   "metadata": {
    "application/vnd.databricks.v1+cell": {
     "inputWidgets": {},
     "nuid": "41ba7f51-818e-4986-88c8-293377406503",
     "showTitle": false,
     "title": ""
    }
   },
   "source": [
    "# PCA analysis"
   ]
  },
  {
   "cell_type": "code",
   "execution_count": 0,
   "metadata": {
    "application/vnd.databricks.v1+cell": {
     "inputWidgets": {},
     "nuid": "cf8dc2eb-df1e-43cc-84d9-d904d6ef8df3",
     "showTitle": false,
     "title": ""
    }
   },
   "outputs": [],
   "source": [
    "eigenvalues, pcs, loadings = hl.hwe_normalized_pca(mt.GT, k=2)\n",
    "mt = mt.annotate_cols(pcs = pcs[mt.s].scores)"
   ]
  },
  {
   "cell_type": "code",
   "execution_count": 0,
   "metadata": {
    "application/vnd.databricks.v1+cell": {
     "inputWidgets": {},
     "nuid": "f5595f04-2bd5-454b-9170-c0f93320cfa0",
     "showTitle": false,
     "title": ""
    }
   },
   "outputs": [],
   "source": [
    "p = hl.plot.scatter(pcs.scores[0], pcs.scores[1],\n",
    "                    label=mt.cols()[pcs.s].pheno.Hipster,\n",
    "                    title='PCA Case/Control', xlabel='PC1', ylabel='PC2', collect_all=True)\n",
    "show(p)"
   ]
  },
  {
   "cell_type": "markdown",
   "metadata": {
    "application/vnd.databricks.v1+cell": {
     "inputWidgets": {},
     "nuid": "3bbcc50d-50a6-42b8-8dc7-45844429ffb6",
     "showTitle": false,
     "title": ""
    }
   },
   "source": [
    "# Logistic Regression"
   ]
  },
  {
   "cell_type": "code",
   "execution_count": 0,
   "metadata": {
    "application/vnd.databricks.v1+cell": {
     "inputWidgets": {},
     "nuid": "c29b164c-8d4e-4190-92f4-a234c534e56f",
     "showTitle": false,
     "title": ""
    }
   },
   "outputs": [],
   "source": [
    "covariates = [mt.pheno.isFemale, mt.pcs[0], mt.pcs[1]]\n",
    "\n",
    "result = hl.logistic_regression_rows(test ='wald', \n",
    "                                          y=mt.pheno.isCase,\n",
    "                                          x=mt.GT.n_alt_alleles(),\n",
    "                                          covariates=covariates)\n",
    "\n",
    "mt = mt.annotate_rows( logreg = result[mt.locus, mt.alleles])"
   ]
  },
  {
   "cell_type": "code",
   "execution_count": 0,
   "metadata": {
    "application/vnd.databricks.v1+cell": {
     "inputWidgets": {},
     "nuid": "8fb7c345-f46f-4bb6-ac40-72102a4f8640",
     "showTitle": false,
     "title": ""
    }
   },
   "outputs": [],
   "source": [
    "p = hl.plot.manhattan(result.p_value)\n",
    "show(p)"
   ]
  },
  {
   "cell_type": "markdown",
   "metadata": {
    "application/vnd.databricks.v1+cell": {
     "inputWidgets": {},
     "nuid": "2545e3d4-e9a7-4c75-a604-a537a7978401",
     "showTitle": false,
     "title": ""
    }
   },
   "source": [
    "# Variant-Spark RandomForest"
   ]
  },
  {
   "cell_type": "code",
   "execution_count": 0,
   "metadata": {
    "application/vnd.databricks.v1+cell": {
     "inputWidgets": {},
     "nuid": "d337613d-3564-437f-8c0d-83ae7fcc95b2",
     "showTitle": false,
     "title": ""
    }
   },
   "outputs": [],
   "source": [
    "rf_model = vshl.random_forest_model(y=mt.pheno.isCase, x=mt.GT.n_alt_alleles(),\n",
    "                                    seed = 13, mtry_fraction = 0.1,\n",
    "                                    min_node_size = 10, max_depth = 15)\n",
    "\n",
    "rf_model.fit_trees(n_trees=100, batch_size=25)\n",
    "\n",
    "impTable = rf_model.variable_importance()\n",
    "\n",
    "mt = mt.annotate_rows(vs_score = impTable[mt.locus, mt.alleles].importance)"
   ]
  },
  {
   "cell_type": "code",
   "execution_count": 0,
   "metadata": {
    "application/vnd.databricks.v1+cell": {
     "inputWidgets": {},
     "nuid": "b8a972d8-60d7-4549-87a6-d3537b11c130",
     "showTitle": false,
     "title": ""
    }
   },
   "outputs": [],
   "source": [
    "mt = mt.annotate_rows(vs_stats = mt.aggregate_rows(hl.agg.stats(mt['vs_score'])))\n",
    "mt = mt.annotate_rows(z_score = (mt['vs_score'] - mt.vs_stats.mean)/mt.vs_stats.stdev)\n",
    "mt = mt.annotate_rows(vs_score_converted = 10** -mt.z_score)\n",
    "title = 'Variant-Spark Manhattan plot'\n",
    "hover_fields = {'rsid': mt.rsid, 'vs_score': mt.vs_score}\n",
    "p = hl.plot.manhattan(pvals=mt.vs_score_converted, hover_fields=hover_fields, title=title)\n",
    "p.yaxis.axis_label = 'Z score of importantce score by VS'\n",
    "show(p)"
   ]
  },
  {
   "cell_type": "markdown",
   "metadata": {
    "application/vnd.databricks.v1+cell": {
     "inputWidgets": {},
     "nuid": "2e680ac1-287b-4018-8188-0ab43ca06b32",
     "showTitle": false,
     "title": ""
    }
   },
   "source": [
    "# Describe matrix Table"
   ]
  },
  {
   "cell_type": "code",
   "execution_count": 0,
   "metadata": {
    "application/vnd.databricks.v1+cell": {
     "inputWidgets": {},
     "nuid": "7a56c0fa-a87f-49f1-8db8-0393f1c50e6a",
     "showTitle": false,
     "title": ""
    }
   },
   "outputs": [],
   "source": [
    "mt.describe()"
   ]
  }
 ],
 "metadata": {
  "application/vnd.databricks.v1+notebook": {
   "dashboards": [],
   "language": "python",
   "notebookMetadata": {
    "pythonIndentUnit": 4
   },
   "notebookName": "VariantSpark_example",
   "notebookOrigID": 1932503549673246,
   "widgets": {}
  },
  "kernelspec": {
   "display_name": "Python 3 (ipykernel)",
   "language": "python",
   "name": "python3"
  },
  "language_info": {
   "codemirror_mode": {
    "name": "ipython",
    "version": 3
   },
   "file_extension": ".py",
   "mimetype": "text/x-python",
   "name": "python",
   "nbconvert_exporter": "python",
   "pygments_lexer": "ipython3",
   "version": "3.8.11"
  }
 },
 "nbformat": 4,
 "nbformat_minor": 1
}
